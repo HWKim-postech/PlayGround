{
  "nbformat": 4,
  "nbformat_minor": 0,
  "metadata": {
    "colab": {
      "name": "Basic FC and CNN.ipynb",
      "provenance": [],
      "collapsed_sections": [],
      "authorship_tag": "ABX9TyMv2BclopTyvexUyzq81gu1",
      "include_colab_link": true
    },
    "kernelspec": {
      "name": "python3",
      "display_name": "Python 3"
    },
    "widgets": {
      "application/vnd.jupyter.widget-state+json": {
        "666b0f53664e473c9944bbd9269123b7": {
          "model_module": "@jupyter-widgets/controls",
          "model_name": "HBoxModel",
          "state": {
            "_view_name": "HBoxView",
            "_dom_classes": [],
            "_model_name": "HBoxModel",
            "_view_module": "@jupyter-widgets/controls",
            "_model_module_version": "1.5.0",
            "_view_count": null,
            "_view_module_version": "1.5.0",
            "box_style": "",
            "layout": "IPY_MODEL_211c1159e9b94e5b97bfd358db0d2beb",
            "_model_module": "@jupyter-widgets/controls",
            "children": [
              "IPY_MODEL_34a3da5e0ab5426da892aa589b7220fd",
              "IPY_MODEL_2455f1b30ed347db9b2012765260660a"
            ]
          }
        },
        "211c1159e9b94e5b97bfd358db0d2beb": {
          "model_module": "@jupyter-widgets/base",
          "model_name": "LayoutModel",
          "state": {
            "_view_name": "LayoutView",
            "grid_template_rows": null,
            "right": null,
            "justify_content": null,
            "_view_module": "@jupyter-widgets/base",
            "overflow": null,
            "_model_module_version": "1.2.0",
            "_view_count": null,
            "flex_flow": null,
            "width": null,
            "min_width": null,
            "border": null,
            "align_items": null,
            "bottom": null,
            "_model_module": "@jupyter-widgets/base",
            "top": null,
            "grid_column": null,
            "overflow_y": null,
            "overflow_x": null,
            "grid_auto_flow": null,
            "grid_area": null,
            "grid_template_columns": null,
            "flex": null,
            "_model_name": "LayoutModel",
            "justify_items": null,
            "grid_row": null,
            "max_height": null,
            "align_content": null,
            "visibility": null,
            "align_self": null,
            "height": null,
            "min_height": null,
            "padding": null,
            "grid_auto_rows": null,
            "grid_gap": null,
            "max_width": null,
            "order": null,
            "_view_module_version": "1.2.0",
            "grid_template_areas": null,
            "object_position": null,
            "object_fit": null,
            "grid_auto_columns": null,
            "margin": null,
            "display": null,
            "left": null
          }
        },
        "34a3da5e0ab5426da892aa589b7220fd": {
          "model_module": "@jupyter-widgets/controls",
          "model_name": "FloatProgressModel",
          "state": {
            "_view_name": "ProgressView",
            "style": "IPY_MODEL_e8687c4afce942689ac7db2cad1b9879",
            "_dom_classes": [],
            "description": "",
            "_model_name": "FloatProgressModel",
            "bar_style": "info",
            "max": 1,
            "_view_module": "@jupyter-widgets/controls",
            "_model_module_version": "1.5.0",
            "value": 1,
            "_view_count": null,
            "_view_module_version": "1.5.0",
            "orientation": "horizontal",
            "min": 0,
            "description_tooltip": null,
            "_model_module": "@jupyter-widgets/controls",
            "layout": "IPY_MODEL_9826b8861a834c9eac075a5a886d182b"
          }
        },
        "2455f1b30ed347db9b2012765260660a": {
          "model_module": "@jupyter-widgets/controls",
          "model_name": "HTMLModel",
          "state": {
            "_view_name": "HTMLView",
            "style": "IPY_MODEL_dbee6fcb0f3643fa80f6d40a664e7964",
            "_dom_classes": [],
            "description": "",
            "_model_name": "HTMLModel",
            "placeholder": "​",
            "_view_module": "@jupyter-widgets/controls",
            "_model_module_version": "1.5.0",
            "value": " 170500096/? [00:20&lt;00:00, 51902677.35it/s]",
            "_view_count": null,
            "_view_module_version": "1.5.0",
            "description_tooltip": null,
            "_model_module": "@jupyter-widgets/controls",
            "layout": "IPY_MODEL_3cb51890d7e5408b8775b992af7aaaf0"
          }
        },
        "e8687c4afce942689ac7db2cad1b9879": {
          "model_module": "@jupyter-widgets/controls",
          "model_name": "ProgressStyleModel",
          "state": {
            "_view_name": "StyleView",
            "_model_name": "ProgressStyleModel",
            "description_width": "initial",
            "_view_module": "@jupyter-widgets/base",
            "_model_module_version": "1.5.0",
            "_view_count": null,
            "_view_module_version": "1.2.0",
            "bar_color": null,
            "_model_module": "@jupyter-widgets/controls"
          }
        },
        "9826b8861a834c9eac075a5a886d182b": {
          "model_module": "@jupyter-widgets/base",
          "model_name": "LayoutModel",
          "state": {
            "_view_name": "LayoutView",
            "grid_template_rows": null,
            "right": null,
            "justify_content": null,
            "_view_module": "@jupyter-widgets/base",
            "overflow": null,
            "_model_module_version": "1.2.0",
            "_view_count": null,
            "flex_flow": null,
            "width": null,
            "min_width": null,
            "border": null,
            "align_items": null,
            "bottom": null,
            "_model_module": "@jupyter-widgets/base",
            "top": null,
            "grid_column": null,
            "overflow_y": null,
            "overflow_x": null,
            "grid_auto_flow": null,
            "grid_area": null,
            "grid_template_columns": null,
            "flex": null,
            "_model_name": "LayoutModel",
            "justify_items": null,
            "grid_row": null,
            "max_height": null,
            "align_content": null,
            "visibility": null,
            "align_self": null,
            "height": null,
            "min_height": null,
            "padding": null,
            "grid_auto_rows": null,
            "grid_gap": null,
            "max_width": null,
            "order": null,
            "_view_module_version": "1.2.0",
            "grid_template_areas": null,
            "object_position": null,
            "object_fit": null,
            "grid_auto_columns": null,
            "margin": null,
            "display": null,
            "left": null
          }
        },
        "dbee6fcb0f3643fa80f6d40a664e7964": {
          "model_module": "@jupyter-widgets/controls",
          "model_name": "DescriptionStyleModel",
          "state": {
            "_view_name": "StyleView",
            "_model_name": "DescriptionStyleModel",
            "description_width": "",
            "_view_module": "@jupyter-widgets/base",
            "_model_module_version": "1.5.0",
            "_view_count": null,
            "_view_module_version": "1.2.0",
            "_model_module": "@jupyter-widgets/controls"
          }
        },
        "3cb51890d7e5408b8775b992af7aaaf0": {
          "model_module": "@jupyter-widgets/base",
          "model_name": "LayoutModel",
          "state": {
            "_view_name": "LayoutView",
            "grid_template_rows": null,
            "right": null,
            "justify_content": null,
            "_view_module": "@jupyter-widgets/base",
            "overflow": null,
            "_model_module_version": "1.2.0",
            "_view_count": null,
            "flex_flow": null,
            "width": null,
            "min_width": null,
            "border": null,
            "align_items": null,
            "bottom": null,
            "_model_module": "@jupyter-widgets/base",
            "top": null,
            "grid_column": null,
            "overflow_y": null,
            "overflow_x": null,
            "grid_auto_flow": null,
            "grid_area": null,
            "grid_template_columns": null,
            "flex": null,
            "_model_name": "LayoutModel",
            "justify_items": null,
            "grid_row": null,
            "max_height": null,
            "align_content": null,
            "visibility": null,
            "align_self": null,
            "height": null,
            "min_height": null,
            "padding": null,
            "grid_auto_rows": null,
            "grid_gap": null,
            "max_width": null,
            "order": null,
            "_view_module_version": "1.2.0",
            "grid_template_areas": null,
            "object_position": null,
            "object_fit": null,
            "grid_auto_columns": null,
            "margin": null,
            "display": null,
            "left": null
          }
        }
      }
    }
  },
  "cells": [
    {
      "cell_type": "markdown",
      "metadata": {
        "id": "view-in-github",
        "colab_type": "text"
      },
      "source": [
        "<a href=\"https://colab.research.google.com/github/HWKim-postech/PlayGround/blob/main/Basic_FC_and_CNN.ipynb\" target=\"_parent\"><img src=\"https://colab.research.google.com/assets/colab-badge.svg\" alt=\"Open In Colab\"/></a>"
      ]
    },
    {
      "cell_type": "markdown",
      "metadata": {
        "id": "FW4ARgaXMpa7"
      },
      "source": [
        "#Basic Fully Connected and CNN model built by HW Kim\r\n",
        "\r\n",
        "I wrote the simplest, but the most important models of ML. \r\n",
        "If you are very beginning of ML, it can be helpful.\r\n",
        "\r\n",
        "If you find errors (Including tiny mistakes), please let me know!\r\n",
        "\r\n",
        "And personally, the best way to learn something is try to find the answer on yorself. \r\n",
        "This is simle model but I'm sure that there're some confusing concepts. \r\n",
        "\r\n",
        "**Everytime you find them, google it and try to understand it.** \r\n",
        "**Not just pass it and think \"I know it\"**\r\n",
        "\r\n",
        "After finishing hard works, you can feel the improvements!\r\n",
        "\r\n",
        "(Any questions: kimhyunwoo554@gmail.com)"
      ]
    },
    {
      "cell_type": "markdown",
      "metadata": {
        "id": "sVs8oPg1izSy"
      },
      "source": [
        "#Download the libraries for models\r\n",
        "\r\n",
        "If you use Anaconda or other python platforms, you might not need to download it.\r\n",
        "\r\n",
        "But it you use simple VS CODE, then you need to downlaod these libraries on CMD\r\n",
        "\r\n",
        "*Go to the cmd and open it as Admin mode. And type it : \"pip install (What you want to install)\""
      ]
    },
    {
      "cell_type": "code",
      "metadata": {
        "id": "6xnNiMHOjQxX"
      },
      "source": [
        "import numpy as np\r\n",
        "import torch\r\n",
        "import torch.nn as nn\r\n",
        "import torch.nn.functional as F\r\n",
        "import matplotlib.pyplot as plt\r\n",
        "from torchvision import datasets, transforms\r\n",
        "import argparse"
      ],
      "execution_count": 1,
      "outputs": []
    },
    {
      "cell_type": "markdown",
      "metadata": {
        "id": "xmVAGK2hknpZ"
      },
      "source": [
        "##Next, I'll declare constants that will be used frequently.\r\n",
        "\r\n",
        "And I also declare the device that I use."
      ]
    },
    {
      "cell_type": "code",
      "metadata": {
        "id": "PIkoC515k_Rp"
      },
      "source": [
        "parser = argparse.ArgumentParser()\r\n",
        "\r\n",
        "parser.add_argument(\"--n_epochs\", type = int, default = 10, help = \"# of epochs during training\")\r\n",
        "parser.add_argument(\"--n_BatchSize\", type = int, default = 32, help = \"Size of Batches\")\r\n",
        "parser.add_argument(\"--lr\", type = float, default = 0.003, help = \"learning rate\")\r\n",
        "parser.add_argument(\"--betas\", type = float, default = (0.9, 0.999), help = \"Constants for the Adam\")\r\n",
        "parser.add_argument(\"--img_size\", type = int, default = 32, help = \"Image size\")\r\n",
        "parser.add_argument(\"--interval\", type = int, default = 100, help = \"Check Point interval\")\r\n",
        "\r\n",
        "opt = parser.parse_args(args=[])\r\n",
        "device = torch.device('cpu')\r\n",
        "'''\r\n",
        "  if torch.cuda.is_available():\r\n",
        "    device = torch.device('cuda')\r\n",
        "  else:\r\n",
        "    device = torch.device('cpu')\r\n",
        "'''"
      ],
      "execution_count": 74,
      "outputs": []
    },
    {
      "cell_type": "markdown",
      "metadata": {
        "id": "Lp20z9PPoCAt"
      },
      "source": [
        "##Now we're gonna download the Dataset from the MNIST (Hand-Written digits) \r\n",
        "http://yann.lecun.com/exdb/mnist/"
      ]
    },
    {
      "cell_type": "code",
      "metadata": {
        "id": "Pj5sNoaJoLt9"
      },
      "source": [
        "train_data = datasets.MNIST(root = \"../MNIST\", download=True, train = True, transform = transforms.Compose([transforms.ToTensor(), transforms.Normalize([0.5], [0.5])]))\r\n",
        "test_data = datasets.MNIST(root = \"../MNIST\", download=True, train = False, transform = transforms.Compose([transforms.ToTensor(), transforms.Normalize([0.5], [0.5])]))\r\n",
        "\r\n",
        "train_loader = torch.utils.data.DataLoader(train_data, shuffle = True, batch_size=opt.n_BatchSize)\r\n",
        "test_loader = torch.utils.data.DataLoader(test_data, shuffle = False, batch_size=opt.n_BatchSize)\r\n"
      ],
      "execution_count": 3,
      "outputs": []
    },
    {
      "cell_type": "markdown",
      "metadata": {
        "id": "fmbwWZxcMIYY"
      },
      "source": [
        "##This is CIFAR10 dataset\r\n",
        "\r\n",
        "https://www.cs.toronto.edu/~kriz/cifar.html"
      ]
    },
    {
      "cell_type": "code",
      "metadata": {
        "colab": {
          "base_uri": "https://localhost:8080/",
          "height": 103,
          "referenced_widgets": [
            "666b0f53664e473c9944bbd9269123b7",
            "211c1159e9b94e5b97bfd358db0d2beb",
            "34a3da5e0ab5426da892aa589b7220fd",
            "2455f1b30ed347db9b2012765260660a",
            "e8687c4afce942689ac7db2cad1b9879",
            "9826b8861a834c9eac075a5a886d182b",
            "dbee6fcb0f3643fa80f6d40a664e7964",
            "3cb51890d7e5408b8775b992af7aaaf0"
          ]
        },
        "id": "SS4jku0B9iuw",
        "outputId": "837fa02d-2381-4007-ba58-2d7b64437aee"
      },
      "source": [
        "train_data = datasets.CIFAR10(root = \"../CIFAR\", download=True, train = True, transform = transforms.Compose([transforms.ToTensor(), transforms.Normalize([0.5], [0.5])]))\r\n",
        "test_data = datasets.CIFAR10(root = \"../CIFAR\", download=True, train = False, transform = transforms.Compose([transforms.ToTensor(), transforms.Normalize([0.5], [0.5])]))\r\n",
        "\r\n",
        "train_loader = torch.utils.data.DataLoader(train_data, shuffle = True, batch_size=opt.n_BatchSize)\r\n",
        "test_loader = torch.utils.data.DataLoader(test_data, shuffle = False, batch_size=opt.n_BatchSize)"
      ],
      "execution_count": 50,
      "outputs": [
        {
          "output_type": "stream",
          "text": [
            "Downloading https://www.cs.toronto.edu/~kriz/cifar-10-python.tar.gz to ../CIFAR/cifar-10-python.tar.gz\n"
          ],
          "name": "stdout"
        },
        {
          "output_type": "display_data",
          "data": {
            "application/vnd.jupyter.widget-view+json": {
              "model_id": "666b0f53664e473c9944bbd9269123b7",
              "version_minor": 0,
              "version_major": 2
            },
            "text/plain": [
              "HBox(children=(FloatProgress(value=1.0, bar_style='info', max=1.0), HTML(value='')))"
            ]
          },
          "metadata": {
            "tags": []
          }
        },
        {
          "output_type": "stream",
          "text": [
            "Extracting ../CIFAR/cifar-10-python.tar.gz to ../CIFAR\n",
            "Files already downloaded and verified\n"
          ],
          "name": "stdout"
        }
      ]
    },
    {
      "cell_type": "markdown",
      "metadata": {
        "id": "FmgqJpOnPtRP"
      },
      "source": [
        ""
      ]
    },
    {
      "cell_type": "markdown",
      "metadata": {
        "id": "GiQidYsrEaDL"
      },
      "source": [
        "##It is very important to check the input data.\r\n",
        "\r\n",
        "And Tensor is quite confusing concept. So you need to study about it.\r\n",
        "\r\n",
        "It can lead us to the deeper understanding.\r\n",
        ".\r\n",
        "\r\n",
        "Read the following website:\r\n",
        "\r\n",
        "https://towardsdatascience.com/understanding-dimensions-in-pytorch-6edf9972d3be"
      ]
    },
    {
      "cell_type": "code",
      "metadata": {
        "colab": {
          "base_uri": "https://localhost:8080/"
        },
        "id": "XHyEfEz3E2ru",
        "outputId": "d6f4c517-e1b3-4d46-ebdf-43d86fcebde3"
      },
      "source": [
        "for img, label in train_loader:\r\n",
        "  print(\"Type of image:\",img[0].type(), \"\\nSize of image:\",img[0].size())\r\n",
        "  print(\"Type of label:\",label[0].type(), \"\\nValue in label[0]:\",label[0].item())\r\n",
        "  break"
      ],
      "execution_count": 118,
      "outputs": [
        {
          "output_type": "stream",
          "text": [
            "Type of image: torch.FloatTensor \n",
            "Size of image: torch.Size([3, 32, 32])\n",
            "Type of label: torch.LongTensor \n",
            "Value in label[0]: 4\n"
          ],
          "name": "stdout"
        }
      ]
    },
    {
      "cell_type": "markdown",
      "metadata": {
        "id": "UqvoRWYtqyRk"
      },
      "source": [
        "##Let's build the model (FC layer)\r\n",
        "\r\n",
        "I use Batch Normalization(BN) and Droput to introduce the concepts (You have to read documents about BN, Dropout)\r\n",
        "\r\n",
        "In this case, we don't need to use BN, Droput techniques. We can get enough performance from a simple FC model.\r\n",
        "\r\n",
        "But it can prevent the overfitting, spikes."
      ]
    },
    {
      "cell_type": "code",
      "metadata": {
        "id": "Qg0z-x-eqxnM"
      },
      "source": [
        "Yclass FC(nn.Module):\r\n",
        "  def __init__(self):\r\n",
        "    super(FC, self).__init__()\r\n",
        "    self.fc1 = nn.Linear(opt.img_size**2, 256)\r\n",
        "    self.fc2 = nn.Linear(256, 128)\r\n",
        "    self.fc3 = nn.Linear(128, 10)\r\n",
        "    self.BN1 = nn.BatchNorm1d(256)\r\n",
        "    self.BN2 = nn.BatchNorm1d(128)\r\n",
        "\r\n",
        "  #You can add FC, BN and dropout layer. Let's adjust it and test your own model!\r\n",
        "  def forward(self, x):\r\n",
        "    x = x.view(-1, opt.img_size**2)\r\n",
        "    x = self.fc1(x)\r\n",
        "    x = self.BN1(x)\r\n",
        "    x = F.relu(x)\r\n",
        "    x = F.dropout(x, p = 0.5)\r\n",
        "    x = self.fc2(x)\r\n",
        "    x = self.BN2(x)\r\n",
        "    x = F.relu(x)\r\n",
        "    x = F.dropout(x, p = 0.5)\r\n",
        "    x = self.fc3(x)\r\n",
        "    x = F.log_softmax(x)\r\n",
        "  \r\n",
        "    return x"
      ],
      "execution_count": 32,
      "outputs": []
    },
    {
      "cell_type": "markdown",
      "metadata": {
        "id": "jwAYCO344wsr"
      },
      "source": [
        "##Let's build the model(CNN)\r\n",
        "\r\n",
        "When building the CNN, we have to consider about the dimensionality more carefully.\r\n",
        "\r\n",
        "If you download the MNIST, self,conv1 has input channel as 1 (gray)\r\n",
        "\r\n",
        "If CIFAR10, it is 3 (RGB)\r\n",
        "\r\n",
        "I wrote CNN model based on CIFAR10. So if you want to use MNIST dataset, then \r\n",
        "\r\n",
        "you need to tune the parameter. It's gonna be good study.\r\n",
        "\r\n",
        "*(MNIST = [1, 28, 28], CIFAR10 = [3, 32, 32])*"
      ]
    },
    {
      "cell_type": "code",
      "metadata": {
        "id": "bti0Yb2T4wNj"
      },
      "source": [
        "class CNN(nn.Module):\r\n",
        "  def __init__(self):\r\n",
        "    super(CNN, self).__init__()\r\n",
        "\r\n",
        "    self.conv1 = nn.Conv2d(3, 8, kernel_size=3, stride=1, padding=1)\r\n",
        "    self.conv2 = nn.Conv2d(8, 16, kernel_size=3, stride=1, padding=1)\r\n",
        "    self.pool = nn.MaxPool2d(kernel_size=2, stride=2)\r\n",
        "\r\n",
        "    self.fc1 = nn.Linear(8*8*16, 64)\r\n",
        "    self.fc2 = nn.Linear(64, 32)\r\n",
        "    self.fc3 = nn.Linear(32, 10)\r\n",
        "\r\n",
        "    self.BN_CNN1 = nn.BatchNorm2d(8)\r\n",
        "\r\n",
        "\r\n",
        "    self.BN_FC1 = nn.BatchNorm1d(64)\r\n",
        "    self.BN_FC2 = nn.BatchNorm1d(32)\r\n",
        "\r\n",
        "  #You can add Convolution layer, FC, BN, dropout and pooling layer. Let's adjust it and test your own model!\r\n",
        "  def forward(self, x):\r\n",
        "    x = self.conv1(x)\r\n",
        "    x = self.BN_CNN1(x)\r\n",
        "    x = F.relu(x)\r\n",
        "    x = F.dropout2d(x, p = 0.5)\r\n",
        "    x = self.pool(x)\r\n",
        "\r\n",
        "    x = self.conv2(x)\r\n",
        "    x = self.pool(x)\r\n",
        "    x = F.relu(x)\r\n",
        "\r\n",
        "    x = x.view(-1, 8*8*16)\r\n",
        "\r\n",
        "    x = self.fc1(x)\r\n",
        "    x = self.BN_FC1(x)\r\n",
        "    x = F.relu(x)\r\n",
        "    x = F.dropout(x, p = 0.5)\r\n",
        "\r\n",
        "    x = self.fc2(x)\r\n",
        "    x = self.BN_FC2(x)\r\n",
        "    x = F.relu(x)\r\n",
        "    x = F.dropout(x, p = 0.5)\r\n",
        "\r\n",
        "    x = self.fc3(x)\r\n",
        "    x = F.log_softmax(x)\r\n",
        "\r\n",
        "    return x"
      ],
      "execution_count": 114,
      "outputs": []
    },
    {
      "cell_type": "markdown",
      "metadata": {
        "id": "F3HDhJbZK80C"
      },
      "source": [
        "##Since our model operated on device(GPU or CPU), let's allocate FC(or CNN) to the device.\r\n",
        "\r\n",
        "Also declare the optimizer, loss function"
      ]
    },
    {
      "cell_type": "code",
      "metadata": {
        "id": "dgLCaTmysBWJ"
      },
      "source": [
        "model = CNN().to(device)\r\n",
        "optimizer = torch.optim.Adam(model.parameters(), lr = opt.lr, betas = opt.betas)\r\n",
        "criterion = nn.CrossEntropyLoss()"
      ],
      "execution_count": 115,
      "outputs": []
    },
    {
      "cell_type": "markdown",
      "metadata": {
        "id": "4jwve1NPt_eW"
      },
      "source": [
        "##Define the evalulate section"
      ]
    },
    {
      "cell_type": "code",
      "metadata": {
        "id": "rXAKAcsUscW_"
      },
      "source": [
        "def eval(model, test_loader):\r\n",
        "  model.eval()\r\n",
        "  eval_loss = 0\r\n",
        "  acc = 0\r\n",
        "  with torch.no_grad():\r\n",
        "    for img, label in test_loader:\r\n",
        "      img = img.to(device)\r\n",
        "      label = label.to(device)\r\n",
        "      output = model(img)\r\n",
        "      eval_loss += criterion(output, label).item()\r\n",
        "      pred = output.max(1, keepdim = True)[1]\r\n",
        "      acc += pred.eq(label.view_as(pred)).sum().item() #I refer to \"파이썬 딥러닝 파이토치 by 이경택, 방성수, 안상준; ISBN : 978-89-5674-857-3\" to write accuracy calculating codes.\r\n",
        "      \r\n",
        "  return eval_loss/len(test_loader.dataset), 100*acc/len(test_loader.dataset)"
      ],
      "execution_count": 116,
      "outputs": []
    },
    {
      "cell_type": "markdown",
      "metadata": {
        "id": "UKJ7h07PIUX0"
      },
      "source": [
        "##LET'S RUN IT!"
      ]
    },
    {
      "cell_type": "markdown",
      "metadata": {
        "id": "TyPlSr3RSCdK"
      },
      "source": [
        ""
      ]
    },
    {
      "cell_type": "code",
      "metadata": {
        "id": "fhIkKw6xwjtj"
      },
      "source": [
        "for epochs in range(1, opt.n_epochs+1):\r\n",
        "  model.train()\r\n",
        "  for batch_idx, (img, label) in enumerate(train_loader):\r\n",
        "    img = img.to(device)\r\n",
        "    label = label.to(device)\r\n",
        "    output = model(img)\r\n",
        "    optimizer.zero_grad()\r\n",
        "    loss = criterion(output, label)\r\n",
        "    loss.backward()\r\n",
        "    optimizer.step()\r\n",
        "\r\n",
        "    if batch_idx % opt.interval == 0 :\r\n",
        "      print(\"[Epochs : %d] [batch_index = %d] [loss = %f]\"%(epochs, batch_idx, loss.item()))\r\n",
        "\r\n",
        "  Evaluate_loss, acc = eval(model, test_loader)\r\n",
        "  print(\"Evaluate Loss =\", Evaluate_loss, \"\\tAccuracy(%) =\", acc)"
      ],
      "execution_count": null,
      "outputs": []
    }
  ]
}